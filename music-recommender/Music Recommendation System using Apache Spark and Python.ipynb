{
 "cells": [
  {
   "cell_type": "markdown",
   "metadata": {},
   "source": [
    "# Music Recommender System using Apache Spark and Python\n",
    "\n",
    "## Description\n",
    "\n",
    "For this project, we will create a recommender system that will recommend new musical artists to a user based on their listening history. Suggesting different songs or musical artists to a user is important to many music streaming services, such as Pandora and Spotify. In addition, this type of recommender system could also be used as a means of suggesting TV shows or movies to a user (e.g., Netflix). \n",
    "\n",
    "To create this system you will be using Spark and the collaborative filtering technique.\n",
    "\n",
    "\n",
    "## Datasets\n",
    "\n",
    "We will be using some publicly available song data from audioscrobbler, which can be found [here](http://www-etud.iro.umontreal.ca/~bergstrj/audioscrobbler_data.html). However, we modified the original data files so that the code will run in a reasonable time on a single machine. The reduced data files have been suffixed with `_small.txt` and contains only the information relevant to the top 50 most prolific users (highest artist play counts).\n",
    "\n",
    "The original data file `user_artist_data.txt` contained about 141,000 unique users, and 1.6 million unique artists. About 24.2 million users’ plays of artists are recorded, along with their count.\n",
    "\n",
    "Note that when plays are scribbled, the client application submits the name of the artist being played. This name could be misspelled or nonstandard, and this may only be detected later. For example, \"The Smiths\", \"Smiths, The\", and \"the smiths\" may appear as distinct artist IDs in the data set, even though they clearly refer to the same artist. So, the data set includes `artist_alias.txt`, which maps artist IDs that are known misspellings or variants to the canonical ID of that artist.\n",
    "\n",
    "The `artist_data.txt` file then provides a map from the canonical artist ID to the name of the artist."
   ]
  },
  {
   "cell_type": "markdown",
   "metadata": {},
   "source": [
    "## Necessary Package Imports"
   ]
  },
  {
   "cell_type": "code",
   "execution_count": 78,
   "metadata": {
    "collapsed": true
   },
   "outputs": [],
   "source": [
    "from pyspark.mllib.recommendation import *\n",
    "import random\n",
    "from operator import *"
   ]
  },
  {
   "cell_type": "markdown",
   "metadata": {},
   "source": [
    "## Loading data\n",
    "\n",
    "Load the three datasets into RDDs and name them `artistData`, `artistAlias`, and `userArtistData`. View the README, or the files themselves, to see how this data is formated. Some of the files have tab delimeters while some have space delimiters. Make sure that your `userArtistData` RDD contains only the canonical artist IDs."
   ]
  },
  {
   "cell_type": "code",
   "execution_count": 79,
   "metadata": {
    "collapsed": false
   },
   "outputs": [],
   "source": [
    "#path to the dataset\n",
    "path = \"/home/Darshan/courses/bi/01.Apache.Spark.Project-1.RecommenderSystems.FINAL/\"\n",
    "#reading the datasets and also parsing and converting to the data type as required\n",
    "artistData = sc.textFile(path + \"artist_data_small.txt\").map(lambda l: l.split(\"\\t\")).map(lambda l: (int(l[0]), l[1]))\n",
    "artistAlias = sc.textFile(path + \"artist_alias_small.txt\").map(lambda l: l.split(\"\\t\")).map(lambda l: (int(l[0]), int(l[1])))\n",
    "userArtistData = sc.textFile(path + \"user_artist_data_small.txt\").map(lambda l: l.split(\" \")).map(lambda l: (int(l[0]), int(l[1]), int(l[2])))"
   ]
  },
  {
   "cell_type": "markdown",
   "metadata": {},
   "source": [
    "## Data Exploration\n",
    "\n",
    "Find the three users with the highest number of total play counts (sum of all counters) and print the user ID, the total play count, and the mean play count (average number of times a user played an artist)."
   ]
  },
  {
   "cell_type": "code",
   "execution_count": 80,
   "metadata": {
    "collapsed": false
   },
   "outputs": [
    {
     "name": "stdout",
     "output_type": "stream",
     "text": [
      "User 1059637 has a total play count of 674412 and a mean play count of 1878.\n",
      "User 2064012 has a total play count of 548427 and a mean play count of 9455.\n",
      "User 2069337 has a total play count of 393515 and a mean play count of 1519.\n"
     ]
    }
   ],
   "source": [
    "#group based on the userID to get list of artists for the user\n",
    "user_play_count = userArtistData.map(lambda u: (u[0],u[2])).groupByKey().mapValues(list)\n",
    "#add a average to each tuple\n",
    "user_play_count_avg = user_play_count.map(lambda t: (t[0],sum(t[1]),sum(t[1])//len(t[1])))\n",
    "#sorted the data based on play count\n",
    "sorted_user_play_count_avg = user_play_count_avg.sortBy(ascending=False, keyfunc = lambda x: x[1])\n",
    "#retrieve and print top 3\n",
    "top3 = sorted_user_play_count_avg.take(3)\n",
    "for t in top3:\n",
    "    print \"User \" + str(t[0]) + \" has a total play count of \"+ str(t[1]) +\" and a mean play count of \"+ str(t[2]) + \".\""
   ]
  },
  {
   "cell_type": "markdown",
   "metadata": {},
   "source": [
    "####  Splitting Data for Testing\n",
    "\n",
    "Use the [randomSplit](http://spark.apache.org/docs/latest/api/python/pyspark.html#pyspark.RDD.randomSplit) function to divide the data (`userArtistData`) into:\n",
    "* A training set, `trainData`, that will be used to train the model. This set should constitute 40% of the data.\n",
    "* A validation set, `validationData`, used to perform parameter tuning. This set should constitute 40% of the data.\n",
    "* A test set, `testData`, used for a final evaluation of the model. This set should constitute 20% of the data.\n",
    "\n",
    "Use a random seed value of 13. Since these datasets will be repeatedly used you will probably want to persist them in memory using the [cache](http://spark.apache.org/docs/latest/api/python/pyspark.html#pyspark.RDD.cache) function.\n",
    "\n",
    "In addition, print out the first 3 elements of each set as well as their size."
   ]
  },
  {
   "cell_type": "code",
   "execution_count": 81,
   "metadata": {
    "collapsed": false
   },
   "outputs": [
    {
     "name": "stdout",
     "output_type": "stream",
     "text": [
      "[(1059637, 1000049, 1), (1059637, 1000056, 1), (1059637, 1000113, 5)]\n",
      "[(1059637, 1000010, 238), (1059637, 1000062, 11), (1059637, 1000112, 423)]\n",
      "[(1059637, 1000094, 1), (1059637, 1000130, 19129), (1059637, 1000139, 4)]\n",
      "19817\n",
      "19633\n",
      "10031\n"
     ]
    },
    {
     "data": {
      "text/plain": [
       "PythonRDD[30141] at RDD at PythonRDD.scala:43"
      ]
     },
     "execution_count": 81,
     "metadata": {},
     "output_type": "execute_result"
    }
   ],
   "source": [
    "#make a dictionary out of the alias data set\n",
    "artistAliasDict =  dict(artistAlias.collect())\n",
    "#replace in userArtistData each artistID with it's canonical ID\n",
    "userArtistData = userArtistData.map(lambda a: (a[0], artistAliasDict[a[1]], a[2]) if a[1] in artistAliasDict.keys() else a)\n",
    "#split data in training, validation and test data set\n",
    "train_data, validation_data, test_data = userArtistData.randomSplit([40,40,20],13)\n",
    "print train_data.take(3)\n",
    "print validation_data.take(3)\n",
    "print test_data.take(3)\n",
    "print train_data.count()\n",
    "print validation_data.count()\n",
    "print test_data.count()\n",
    "train_data.cache()\n",
    "validation_data.cache()\n",
    "test_data.cache()"
   ]
  },
  {
   "cell_type": "markdown",
   "metadata": {},
   "source": [
    "## The Recommender Model\n",
    "\n",
    "For this project, we will train the model with implicit feedback. You can read more information about this from the collaborative filtering page: [http://spark.apache.org/docs/latest/mllib-collaborative-filtering.html](http://spark.apache.org/docs/latest/mllib-collaborative-filtering.html). The [function we will be using](http://spark.apache.org/docs/latest/api/python/pyspark.mllib.html#pyspark.mllib.recommendation.ALS.trainImplicit) has a few tunable parameters that will affect how the model is built. Therefore, to get the best model, we will do a small parameter sweep and choose the model that performs the best on the validation set\n",
    "\n",
    "Therefore, we must first devise a way to evaluate models. Once we have a method for evaluation, we can run a parameter sweep, evaluate each combination of parameters on the validation data, and choose the optimal set of parameters. The parameters then can be used to make predictions on the test data.\n",
    "\n",
    "### Model Evaluation\n",
    "\n",
    "Although there may be several ways to evaluate a model, we will use a simple method here. Suppose we have a model and some dataset of *true* artist plays for a set of users. This model can be used to predict the top X artist recommendations for a user and these recommendations can be compared the artists that the user actually listened to (here, X will be the number of artists in the dataset of *true* artist plays). Then, the fraction of overlap between the top X predictions of the model and the X artists that the user actually listened to can be calculated. This process can be repeated for all users and an average value returned.\n",
    "\n",
    "For example, suppose a model predicted [1,2,4,8] as the top X=4 artists for a user. Suppose, that user actually listened to the artists [1,3,7,8]. Then, for this user, the model would have a score of 2/4=0.5. To get the overall score, this would be performed for all users, with the average returned.\n"
   ]
  },
  {
   "cell_type": "code",
   "execution_count": 82,
   "metadata": {
    "collapsed": false
   },
   "outputs": [],
   "source": [
    "def modelEval(model, dataset):\n",
    "    #set of all the artists in the entire data\n",
    "    allArtists = set(userArtistData.map(lambda a: a[1]).collect())\n",
    "    #set of all the users\n",
    "    users = set(dataset.map(lambda u: u[0]).collect())\n",
    "    #user->[artist1, artist2,...] for current dataset\n",
    "    datasetUserToArtists = dict(dataset.map(lambda u: (u[0],u[1])).groupByKey().mapValues(set).collect())\n",
    "    #user->[artist1, artist2, ...] for all training dataset\n",
    "    userToArtists = dict(trainData.map(lambda u: (u[0],u[1])).groupByKey().mapValues(set).collect())\n",
    "    score = 0\n",
    "    #calculate score for each user\n",
    "    for user in users: \n",
    "        nonTrainArtists = allArtists - userToArtists[user]\n",
    "        trueArtists = datasetUserToArtists[user]\n",
    "        X = len(trueArtists)\n",
    "        test = map(lambda x: (user, x),nonTrainArtists)\n",
    "        #get artists (referred as products) predictions for the current user\n",
    "        predictionsArtists = model.predictAll(sc.parallelize(test)).sortBy(ascending=False, keyfunc = lambda x: x.rating).map(lambda x:x.product).take(X)\n",
    "        score += (float(len(set(predictionsArtists).intersection(trueArtists))) / X)\n",
    "    return float(score)/len(users)"
   ]
  },
  {
   "cell_type": "markdown",
   "metadata": {},
   "source": [
    "### Model Construction\n",
    "\n",
    "Now we can build the best model possibly using the validation set of data and the `modelEval` function. Although, there are a few parameters we could optimize, for the sake of time, we will just try a few different values for the [rank parameter](http://spark.apache.org/docs/latest/mllib-collaborative-filtering.html#collaborative-filtering) (leave everything else at its default value, **except make `seed`=345**). Loop through the values [2, 10, 20] and figure out which one produces the highest scored based on your model evaluation function.\n"
   ]
  },
  {
   "cell_type": "code",
   "execution_count": 76,
   "metadata": {
    "collapsed": false
   },
   "outputs": [
    {
     "name": "stdout",
     "output_type": "stream",
     "text": [
      "0.0908903753405\n",
      "0.0953126426486\n",
      "0.0899507169752\n"
     ]
    }
   ],
   "source": [
    "model = ALS.trainImplicit(train_data, rank=2, seed=345)\n",
    "print modelEval(model, validation_data) \n",
    "model = ALS.trainImplicit(train_data, rank=10, seed=345)\n",
    "print modelEval(model, validation_data) \n",
    "model = ALS.trainImplicit(train_data, rank=20, seed=345)\n",
    "print modelEval(model, validation_data) "
   ]
  },
  {
   "cell_type": "markdown",
   "metadata": {},
   "source": [
    "Now, using the bestModel, we will check the results over the test data."
   ]
  },
  {
   "cell_type": "code",
   "execution_count": 83,
   "metadata": {
    "collapsed": false
   },
   "outputs": [
    {
     "data": {
      "text/plain": [
       "0.051222288350108974"
      ]
     },
     "execution_count": 83,
     "metadata": {},
     "output_type": "execute_result"
    }
   ],
   "source": [
    "bestModel = ALS.trainImplicit(train_data, rank=10, seed=345)\n",
    "modelEval(bestModel, test_data)"
   ]
  },
  {
   "cell_type": "markdown",
   "metadata": {},
   "source": [
    "## Trying Some Artist Recommendations\n",
    "Using the best model above, predict the top 5 artists for user `1059637` using the [recommendProducts](http://spark.apache.org/docs/1.5.2/api/python/pyspark.mllib.html#pyspark.mllib.recommendation.MatrixFactorizationModel.recommendProducts) function. Map the results (integer IDs) into the real artist name using `artistAlias`."
   ]
  },
  {
   "cell_type": "code",
   "execution_count": 98,
   "metadata": {
    "collapsed": false
   },
   "outputs": [
    {
     "name": "stdout",
     "output_type": "stream",
     "text": [
      "Artist 0: Brand New\n",
      "Artist 1: Taking Back Sunday\n",
      "Artist 2: Evanescence\n",
      "Artist 3: Elliott Smith\n",
      "Artist 4: blink-182\n"
     ]
    }
   ],
   "source": [
    "ratings = bestModel.recommendProducts(1059637, 5)\n",
    "ratingsArtists = map(lambda r : r.product, ratings)\n",
    "artistDataMap = dict(artistData.collect())\n",
    "i=0\n",
    "for artist in ratingsArtists:\n",
    "    print \"Artist \"+ str(i)+ \":\",artistDataMap[artist]\n",
    "    i+=1"
   ]
  },
  {
   "cell_type": "code",
   "execution_count": null,
   "metadata": {
    "collapsed": true
   },
   "outputs": [],
   "source": []
  }
 ],
 "metadata": {
  "kernelspec": {
   "display_name": "Python 2",
   "language": "python",
   "name": "python2"
  },
  "language_info": {
   "codemirror_mode": {
    "name": "ipython",
    "version": 2
   },
   "file_extension": ".py",
   "mimetype": "text/x-python",
   "name": "python",
   "nbconvert_exporter": "python",
   "pygments_lexer": "ipython2",
   "version": "2.7.11"
  }
 },
 "nbformat": 4,
 "nbformat_minor": 0
}
